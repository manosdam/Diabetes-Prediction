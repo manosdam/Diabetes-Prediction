{
  "cells": [
    {
      "cell_type": "markdown",
      "metadata": {
        "id": "zcFqpERjEY_l"
      },
      "source": [
        "# Ex1. Logistic Regression"
      ]
    },
    {
      "cell_type": "markdown",
      "metadata": {
        "id": "328Zl6T8ENi-"
      },
      "source": [
        "# Import Libraries"
      ]
    },
    {
      "cell_type": "code",
      "execution_count": null,
      "metadata": {
        "id": "jSXT_AE0EAra"
      },
      "outputs": [],
      "source": [
        "import numpy as np\n",
        "import pandas as pd\n",
        "import scipy.stats as stats\n",
        "import matplotlib.pyplot as plt\n",
        "\n",
        "from sklearn.preprocessing import StandardScaler\n",
        "from sklearn.model_selection import train_test_split\n",
        "from sklearn.metrics import accuracy_score, mean_absolute_error\n",
        "from sklearn.linear_model import LogisticRegression, \\\n",
        "                                 LinearRegression, SGDRegressor"
      ]
    },
    {
      "cell_type": "markdown",
      "metadata": {
        "id": "TiKk4DKlEO6l"
      },
      "source": [
        "# Load Dataset to DataFrame"
      ]
    },
    {
      "cell_type": "code",
      "execution_count": null,
      "metadata": {
        "colab": {
          "base_uri": "https://localhost:8080/",
          "height": 206
        },
        "id": "D9xfPUvkEPkt",
        "outputId": "1a2670d8-aaa6-4a33-cfb8-f08d6588863b"
      },
      "outputs": [
        {
          "data": {
            "text/html": [
              "\n",
              "  <div id=\"df-06f76882-a19d-4559-9d7f-8c9b966f44c6\" class=\"colab-df-container\">\n",
              "    <div>\n",
              "<style scoped>\n",
              "    .dataframe tbody tr th:only-of-type {\n",
              "        vertical-align: middle;\n",
              "    }\n",
              "\n",
              "    .dataframe tbody tr th {\n",
              "        vertical-align: top;\n",
              "    }\n",
              "\n",
              "    .dataframe thead th {\n",
              "        text-align: right;\n",
              "    }\n",
              "</style>\n",
              "<table border=\"1\" class=\"dataframe\">\n",
              "  <thead>\n",
              "    <tr style=\"text-align: right;\">\n",
              "      <th></th>\n",
              "      <th>Pregnancies</th>\n",
              "      <th>Glucose</th>\n",
              "      <th>BloodPressure</th>\n",
              "      <th>SkinThickness</th>\n",
              "      <th>Insulin</th>\n",
              "      <th>BMI</th>\n",
              "      <th>DiabetesPedigreeFunction</th>\n",
              "      <th>Age</th>\n",
              "      <th>Outcome</th>\n",
              "    </tr>\n",
              "  </thead>\n",
              "  <tbody>\n",
              "    <tr>\n",
              "      <th>0</th>\n",
              "      <td>6</td>\n",
              "      <td>148</td>\n",
              "      <td>72</td>\n",
              "      <td>35</td>\n",
              "      <td>0</td>\n",
              "      <td>33.6</td>\n",
              "      <td>0.627</td>\n",
              "      <td>50</td>\n",
              "      <td>1</td>\n",
              "    </tr>\n",
              "    <tr>\n",
              "      <th>1</th>\n",
              "      <td>1</td>\n",
              "      <td>85</td>\n",
              "      <td>66</td>\n",
              "      <td>29</td>\n",
              "      <td>0</td>\n",
              "      <td>26.6</td>\n",
              "      <td>0.351</td>\n",
              "      <td>31</td>\n",
              "      <td>0</td>\n",
              "    </tr>\n",
              "    <tr>\n",
              "      <th>2</th>\n",
              "      <td>8</td>\n",
              "      <td>183</td>\n",
              "      <td>64</td>\n",
              "      <td>0</td>\n",
              "      <td>0</td>\n",
              "      <td>23.3</td>\n",
              "      <td>0.672</td>\n",
              "      <td>32</td>\n",
              "      <td>1</td>\n",
              "    </tr>\n",
              "    <tr>\n",
              "      <th>3</th>\n",
              "      <td>1</td>\n",
              "      <td>89</td>\n",
              "      <td>66</td>\n",
              "      <td>23</td>\n",
              "      <td>94</td>\n",
              "      <td>28.1</td>\n",
              "      <td>0.167</td>\n",
              "      <td>21</td>\n",
              "      <td>0</td>\n",
              "    </tr>\n",
              "    <tr>\n",
              "      <th>4</th>\n",
              "      <td>0</td>\n",
              "      <td>137</td>\n",
              "      <td>40</td>\n",
              "      <td>35</td>\n",
              "      <td>168</td>\n",
              "      <td>43.1</td>\n",
              "      <td>2.288</td>\n",
              "      <td>33</td>\n",
              "      <td>1</td>\n",
              "    </tr>\n",
              "  </tbody>\n",
              "</table>\n",
              "</div>\n",
              "    <div class=\"colab-df-buttons\">\n",
              "\n",
              "  <div class=\"colab-df-container\">\n",
              "    <button class=\"colab-df-convert\" onclick=\"convertToInteractive('df-06f76882-a19d-4559-9d7f-8c9b966f44c6')\"\n",
              "            title=\"Convert this dataframe to an interactive table.\"\n",
              "            style=\"display:none;\">\n",
              "\n",
              "  <svg xmlns=\"http://www.w3.org/2000/svg\" height=\"24px\" viewBox=\"0 -960 960 960\">\n",
              "    <path d=\"M120-120v-720h720v720H120Zm60-500h600v-160H180v160Zm220 220h160v-160H400v160Zm0 220h160v-160H400v160ZM180-400h160v-160H180v160Zm440 0h160v-160H620v160ZM180-180h160v-160H180v160Zm440 0h160v-160H620v160Z\"/>\n",
              "  </svg>\n",
              "    </button>\n",
              "\n",
              "  <style>\n",
              "    .colab-df-container {\n",
              "      display:flex;\n",
              "      gap: 12px;\n",
              "    }\n",
              "\n",
              "    .colab-df-convert {\n",
              "      background-color: #E8F0FE;\n",
              "      border: none;\n",
              "      border-radius: 50%;\n",
              "      cursor: pointer;\n",
              "      display: none;\n",
              "      fill: #1967D2;\n",
              "      height: 32px;\n",
              "      padding: 0 0 0 0;\n",
              "      width: 32px;\n",
              "    }\n",
              "\n",
              "    .colab-df-convert:hover {\n",
              "      background-color: #E2EBFA;\n",
              "      box-shadow: 0px 1px 2px rgba(60, 64, 67, 0.3), 0px 1px 3px 1px rgba(60, 64, 67, 0.15);\n",
              "      fill: #174EA6;\n",
              "    }\n",
              "\n",
              "    .colab-df-buttons div {\n",
              "      margin-bottom: 4px;\n",
              "    }\n",
              "\n",
              "    [theme=dark] .colab-df-convert {\n",
              "      background-color: #3B4455;\n",
              "      fill: #D2E3FC;\n",
              "    }\n",
              "\n",
              "    [theme=dark] .colab-df-convert:hover {\n",
              "      background-color: #434B5C;\n",
              "      box-shadow: 0px 1px 3px 1px rgba(0, 0, 0, 0.15);\n",
              "      filter: drop-shadow(0px 1px 2px rgba(0, 0, 0, 0.3));\n",
              "      fill: #FFFFFF;\n",
              "    }\n",
              "  </style>\n",
              "\n",
              "    <script>\n",
              "      const buttonEl =\n",
              "        document.querySelector('#df-06f76882-a19d-4559-9d7f-8c9b966f44c6 button.colab-df-convert');\n",
              "      buttonEl.style.display =\n",
              "        google.colab.kernel.accessAllowed ? 'block' : 'none';\n",
              "\n",
              "      async function convertToInteractive(key) {\n",
              "        const element = document.querySelector('#df-06f76882-a19d-4559-9d7f-8c9b966f44c6');\n",
              "        const dataTable =\n",
              "          await google.colab.kernel.invokeFunction('convertToInteractive',\n",
              "                                                    [key], {});\n",
              "        if (!dataTable) return;\n",
              "\n",
              "        const docLinkHtml = 'Like what you see? Visit the ' +\n",
              "          '<a target=\"_blank\" href=https://colab.research.google.com/notebooks/data_table.ipynb>data table notebook</a>'\n",
              "          + ' to learn more about interactive tables.';\n",
              "        element.innerHTML = '';\n",
              "        dataTable['output_type'] = 'display_data';\n",
              "        await google.colab.output.renderOutput(dataTable, element);\n",
              "        const docLink = document.createElement('div');\n",
              "        docLink.innerHTML = docLinkHtml;\n",
              "        element.appendChild(docLink);\n",
              "      }\n",
              "    </script>\n",
              "  </div>\n",
              "\n",
              "\n",
              "<div id=\"df-0ead1df8-931e-4d50-9365-4563701ca833\">\n",
              "  <button class=\"colab-df-quickchart\" onclick=\"quickchart('df-0ead1df8-931e-4d50-9365-4563701ca833')\"\n",
              "            title=\"Suggest charts.\"\n",
              "            style=\"display:none;\">\n",
              "\n",
              "<svg xmlns=\"http://www.w3.org/2000/svg\" height=\"24px\"viewBox=\"0 0 24 24\"\n",
              "     width=\"24px\">\n",
              "    <g>\n",
              "        <path d=\"M19 3H5c-1.1 0-2 .9-2 2v14c0 1.1.9 2 2 2h14c1.1 0 2-.9 2-2V5c0-1.1-.9-2-2-2zM9 17H7v-7h2v7zm4 0h-2V7h2v10zm4 0h-2v-4h2v4z\"/>\n",
              "    </g>\n",
              "</svg>\n",
              "  </button>\n",
              "\n",
              "<style>\n",
              "  .colab-df-quickchart {\n",
              "      --bg-color: #E8F0FE;\n",
              "      --fill-color: #1967D2;\n",
              "      --hover-bg-color: #E2EBFA;\n",
              "      --hover-fill-color: #174EA6;\n",
              "      --disabled-fill-color: #AAA;\n",
              "      --disabled-bg-color: #DDD;\n",
              "  }\n",
              "\n",
              "  [theme=dark] .colab-df-quickchart {\n",
              "      --bg-color: #3B4455;\n",
              "      --fill-color: #D2E3FC;\n",
              "      --hover-bg-color: #434B5C;\n",
              "      --hover-fill-color: #FFFFFF;\n",
              "      --disabled-bg-color: #3B4455;\n",
              "      --disabled-fill-color: #666;\n",
              "  }\n",
              "\n",
              "  .colab-df-quickchart {\n",
              "    background-color: var(--bg-color);\n",
              "    border: none;\n",
              "    border-radius: 50%;\n",
              "    cursor: pointer;\n",
              "    display: none;\n",
              "    fill: var(--fill-color);\n",
              "    height: 32px;\n",
              "    padding: 0;\n",
              "    width: 32px;\n",
              "  }\n",
              "\n",
              "  .colab-df-quickchart:hover {\n",
              "    background-color: var(--hover-bg-color);\n",
              "    box-shadow: 0 1px 2px rgba(60, 64, 67, 0.3), 0 1px 3px 1px rgba(60, 64, 67, 0.15);\n",
              "    fill: var(--button-hover-fill-color);\n",
              "  }\n",
              "\n",
              "  .colab-df-quickchart-complete:disabled,\n",
              "  .colab-df-quickchart-complete:disabled:hover {\n",
              "    background-color: var(--disabled-bg-color);\n",
              "    fill: var(--disabled-fill-color);\n",
              "    box-shadow: none;\n",
              "  }\n",
              "\n",
              "  .colab-df-spinner {\n",
              "    border: 2px solid var(--fill-color);\n",
              "    border-color: transparent;\n",
              "    border-bottom-color: var(--fill-color);\n",
              "    animation:\n",
              "      spin 1s steps(1) infinite;\n",
              "  }\n",
              "\n",
              "  @keyframes spin {\n",
              "    0% {\n",
              "      border-color: transparent;\n",
              "      border-bottom-color: var(--fill-color);\n",
              "      border-left-color: var(--fill-color);\n",
              "    }\n",
              "    20% {\n",
              "      border-color: transparent;\n",
              "      border-left-color: var(--fill-color);\n",
              "      border-top-color: var(--fill-color);\n",
              "    }\n",
              "    30% {\n",
              "      border-color: transparent;\n",
              "      border-left-color: var(--fill-color);\n",
              "      border-top-color: var(--fill-color);\n",
              "      border-right-color: var(--fill-color);\n",
              "    }\n",
              "    40% {\n",
              "      border-color: transparent;\n",
              "      border-right-color: var(--fill-color);\n",
              "      border-top-color: var(--fill-color);\n",
              "    }\n",
              "    60% {\n",
              "      border-color: transparent;\n",
              "      border-right-color: var(--fill-color);\n",
              "    }\n",
              "    80% {\n",
              "      border-color: transparent;\n",
              "      border-right-color: var(--fill-color);\n",
              "      border-bottom-color: var(--fill-color);\n",
              "    }\n",
              "    90% {\n",
              "      border-color: transparent;\n",
              "      border-bottom-color: var(--fill-color);\n",
              "    }\n",
              "  }\n",
              "</style>\n",
              "\n",
              "  <script>\n",
              "    async function quickchart(key) {\n",
              "      const quickchartButtonEl =\n",
              "        document.querySelector('#' + key + ' button');\n",
              "      quickchartButtonEl.disabled = true;  // To prevent multiple clicks.\n",
              "      quickchartButtonEl.classList.add('colab-df-spinner');\n",
              "      try {\n",
              "        const charts = await google.colab.kernel.invokeFunction(\n",
              "            'suggestCharts', [key], {});\n",
              "      } catch (error) {\n",
              "        console.error('Error during call to suggestCharts:', error);\n",
              "      }\n",
              "      quickchartButtonEl.classList.remove('colab-df-spinner');\n",
              "      quickchartButtonEl.classList.add('colab-df-quickchart-complete');\n",
              "    }\n",
              "    (() => {\n",
              "      let quickchartButtonEl =\n",
              "        document.querySelector('#df-0ead1df8-931e-4d50-9365-4563701ca833 button');\n",
              "      quickchartButtonEl.style.display =\n",
              "        google.colab.kernel.accessAllowed ? 'block' : 'none';\n",
              "    })();\n",
              "  </script>\n",
              "</div>\n",
              "    </div>\n",
              "  </div>\n"
            ],
            "text/plain": [
              "   Pregnancies  Glucose  BloodPressure  SkinThickness  Insulin   BMI  \\\n",
              "0            6      148             72             35        0  33.6   \n",
              "1            1       85             66             29        0  26.6   \n",
              "2            8      183             64              0        0  23.3   \n",
              "3            1       89             66             23       94  28.1   \n",
              "4            0      137             40             35      168  43.1   \n",
              "\n",
              "   DiabetesPedigreeFunction  Age  Outcome  \n",
              "0                     0.627   50        1  \n",
              "1                     0.351   31        0  \n",
              "2                     0.672   32        1  \n",
              "3                     0.167   21        0  \n",
              "4                     2.288   33        1  "
            ]
          },
          "execution_count": 2,
          "metadata": {},
          "output_type": "execute_result"
        }
      ],
      "source": [
        "df = pd.read_csv('sample_data/diabetes.csv')\n",
        "\n",
        "# Print the first five rows of the data, just to take a look at the values.\n",
        "df.head()"
      ]
    },
    {
      "cell_type": "code",
      "execution_count": null,
      "metadata": {
        "colab": {
          "base_uri": "https://localhost:8080/",
          "height": 300
        },
        "id": "UnQ3GHHU5P7z",
        "outputId": "01033530-1178-4216-985f-13a88f836b8a"
      },
      "outputs": [
        {
          "data": {
            "text/html": [
              "\n",
              "  <div id=\"df-0ad4d53a-eca8-44ec-aa38-dd39f185ebd5\" class=\"colab-df-container\">\n",
              "    <div>\n",
              "<style scoped>\n",
              "    .dataframe tbody tr th:only-of-type {\n",
              "        vertical-align: middle;\n",
              "    }\n",
              "\n",
              "    .dataframe tbody tr th {\n",
              "        vertical-align: top;\n",
              "    }\n",
              "\n",
              "    .dataframe thead th {\n",
              "        text-align: right;\n",
              "    }\n",
              "</style>\n",
              "<table border=\"1\" class=\"dataframe\">\n",
              "  <thead>\n",
              "    <tr style=\"text-align: right;\">\n",
              "      <th></th>\n",
              "      <th>Pregnancies</th>\n",
              "      <th>Glucose</th>\n",
              "      <th>BloodPressure</th>\n",
              "      <th>SkinThickness</th>\n",
              "      <th>Insulin</th>\n",
              "      <th>BMI</th>\n",
              "      <th>DiabetesPedigreeFunction</th>\n",
              "      <th>Age</th>\n",
              "      <th>Outcome</th>\n",
              "    </tr>\n",
              "  </thead>\n",
              "  <tbody>\n",
              "    <tr>\n",
              "      <th>count</th>\n",
              "      <td>768.000000</td>\n",
              "      <td>768.000000</td>\n",
              "      <td>768.000000</td>\n",
              "      <td>768.000000</td>\n",
              "      <td>768.000000</td>\n",
              "      <td>768.000000</td>\n",
              "      <td>768.000000</td>\n",
              "      <td>768.000000</td>\n",
              "      <td>768.000000</td>\n",
              "    </tr>\n",
              "    <tr>\n",
              "      <th>mean</th>\n",
              "      <td>3.845052</td>\n",
              "      <td>120.894531</td>\n",
              "      <td>69.105469</td>\n",
              "      <td>20.536458</td>\n",
              "      <td>79.799479</td>\n",
              "      <td>31.992578</td>\n",
              "      <td>0.471876</td>\n",
              "      <td>33.240885</td>\n",
              "      <td>0.348958</td>\n",
              "    </tr>\n",
              "    <tr>\n",
              "      <th>std</th>\n",
              "      <td>3.369578</td>\n",
              "      <td>31.972618</td>\n",
              "      <td>19.355807</td>\n",
              "      <td>15.952218</td>\n",
              "      <td>115.244002</td>\n",
              "      <td>7.884160</td>\n",
              "      <td>0.331329</td>\n",
              "      <td>11.760232</td>\n",
              "      <td>0.476951</td>\n",
              "    </tr>\n",
              "    <tr>\n",
              "      <th>min</th>\n",
              "      <td>0.000000</td>\n",
              "      <td>0.000000</td>\n",
              "      <td>0.000000</td>\n",
              "      <td>0.000000</td>\n",
              "      <td>0.000000</td>\n",
              "      <td>0.000000</td>\n",
              "      <td>0.078000</td>\n",
              "      <td>21.000000</td>\n",
              "      <td>0.000000</td>\n",
              "    </tr>\n",
              "    <tr>\n",
              "      <th>25%</th>\n",
              "      <td>1.000000</td>\n",
              "      <td>99.000000</td>\n",
              "      <td>62.000000</td>\n",
              "      <td>0.000000</td>\n",
              "      <td>0.000000</td>\n",
              "      <td>27.300000</td>\n",
              "      <td>0.243750</td>\n",
              "      <td>24.000000</td>\n",
              "      <td>0.000000</td>\n",
              "    </tr>\n",
              "    <tr>\n",
              "      <th>50%</th>\n",
              "      <td>3.000000</td>\n",
              "      <td>117.000000</td>\n",
              "      <td>72.000000</td>\n",
              "      <td>23.000000</td>\n",
              "      <td>30.500000</td>\n",
              "      <td>32.000000</td>\n",
              "      <td>0.372500</td>\n",
              "      <td>29.000000</td>\n",
              "      <td>0.000000</td>\n",
              "    </tr>\n",
              "    <tr>\n",
              "      <th>75%</th>\n",
              "      <td>6.000000</td>\n",
              "      <td>140.250000</td>\n",
              "      <td>80.000000</td>\n",
              "      <td>32.000000</td>\n",
              "      <td>127.250000</td>\n",
              "      <td>36.600000</td>\n",
              "      <td>0.626250</td>\n",
              "      <td>41.000000</td>\n",
              "      <td>1.000000</td>\n",
              "    </tr>\n",
              "    <tr>\n",
              "      <th>max</th>\n",
              "      <td>17.000000</td>\n",
              "      <td>199.000000</td>\n",
              "      <td>122.000000</td>\n",
              "      <td>99.000000</td>\n",
              "      <td>846.000000</td>\n",
              "      <td>67.100000</td>\n",
              "      <td>2.420000</td>\n",
              "      <td>81.000000</td>\n",
              "      <td>1.000000</td>\n",
              "    </tr>\n",
              "  </tbody>\n",
              "</table>\n",
              "</div>\n",
              "    <div class=\"colab-df-buttons\">\n",
              "\n",
              "  <div class=\"colab-df-container\">\n",
              "    <button class=\"colab-df-convert\" onclick=\"convertToInteractive('df-0ad4d53a-eca8-44ec-aa38-dd39f185ebd5')\"\n",
              "            title=\"Convert this dataframe to an interactive table.\"\n",
              "            style=\"display:none;\">\n",
              "\n",
              "  <svg xmlns=\"http://www.w3.org/2000/svg\" height=\"24px\" viewBox=\"0 -960 960 960\">\n",
              "    <path d=\"M120-120v-720h720v720H120Zm60-500h600v-160H180v160Zm220 220h160v-160H400v160Zm0 220h160v-160H400v160ZM180-400h160v-160H180v160Zm440 0h160v-160H620v160ZM180-180h160v-160H180v160Zm440 0h160v-160H620v160Z\"/>\n",
              "  </svg>\n",
              "    </button>\n",
              "\n",
              "  <style>\n",
              "    .colab-df-container {\n",
              "      display:flex;\n",
              "      gap: 12px;\n",
              "    }\n",
              "\n",
              "    .colab-df-convert {\n",
              "      background-color: #E8F0FE;\n",
              "      border: none;\n",
              "      border-radius: 50%;\n",
              "      cursor: pointer;\n",
              "      display: none;\n",
              "      fill: #1967D2;\n",
              "      height: 32px;\n",
              "      padding: 0 0 0 0;\n",
              "      width: 32px;\n",
              "    }\n",
              "\n",
              "    .colab-df-convert:hover {\n",
              "      background-color: #E2EBFA;\n",
              "      box-shadow: 0px 1px 2px rgba(60, 64, 67, 0.3), 0px 1px 3px 1px rgba(60, 64, 67, 0.15);\n",
              "      fill: #174EA6;\n",
              "    }\n",
              "\n",
              "    .colab-df-buttons div {\n",
              "      margin-bottom: 4px;\n",
              "    }\n",
              "\n",
              "    [theme=dark] .colab-df-convert {\n",
              "      background-color: #3B4455;\n",
              "      fill: #D2E3FC;\n",
              "    }\n",
              "\n",
              "    [theme=dark] .colab-df-convert:hover {\n",
              "      background-color: #434B5C;\n",
              "      box-shadow: 0px 1px 3px 1px rgba(0, 0, 0, 0.15);\n",
              "      filter: drop-shadow(0px 1px 2px rgba(0, 0, 0, 0.3));\n",
              "      fill: #FFFFFF;\n",
              "    }\n",
              "  </style>\n",
              "\n",
              "    <script>\n",
              "      const buttonEl =\n",
              "        document.querySelector('#df-0ad4d53a-eca8-44ec-aa38-dd39f185ebd5 button.colab-df-convert');\n",
              "      buttonEl.style.display =\n",
              "        google.colab.kernel.accessAllowed ? 'block' : 'none';\n",
              "\n",
              "      async function convertToInteractive(key) {\n",
              "        const element = document.querySelector('#df-0ad4d53a-eca8-44ec-aa38-dd39f185ebd5');\n",
              "        const dataTable =\n",
              "          await google.colab.kernel.invokeFunction('convertToInteractive',\n",
              "                                                    [key], {});\n",
              "        if (!dataTable) return;\n",
              "\n",
              "        const docLinkHtml = 'Like what you see? Visit the ' +\n",
              "          '<a target=\"_blank\" href=https://colab.research.google.com/notebooks/data_table.ipynb>data table notebook</a>'\n",
              "          + ' to learn more about interactive tables.';\n",
              "        element.innerHTML = '';\n",
              "        dataTable['output_type'] = 'display_data';\n",
              "        await google.colab.output.renderOutput(dataTable, element);\n",
              "        const docLink = document.createElement('div');\n",
              "        docLink.innerHTML = docLinkHtml;\n",
              "        element.appendChild(docLink);\n",
              "      }\n",
              "    </script>\n",
              "  </div>\n",
              "\n",
              "\n",
              "<div id=\"df-c14fe8bd-f92d-4cc6-9557-49e51606b113\">\n",
              "  <button class=\"colab-df-quickchart\" onclick=\"quickchart('df-c14fe8bd-f92d-4cc6-9557-49e51606b113')\"\n",
              "            title=\"Suggest charts.\"\n",
              "            style=\"display:none;\">\n",
              "\n",
              "<svg xmlns=\"http://www.w3.org/2000/svg\" height=\"24px\"viewBox=\"0 0 24 24\"\n",
              "     width=\"24px\">\n",
              "    <g>\n",
              "        <path d=\"M19 3H5c-1.1 0-2 .9-2 2v14c0 1.1.9 2 2 2h14c1.1 0 2-.9 2-2V5c0-1.1-.9-2-2-2zM9 17H7v-7h2v7zm4 0h-2V7h2v10zm4 0h-2v-4h2v4z\"/>\n",
              "    </g>\n",
              "</svg>\n",
              "  </button>\n",
              "\n",
              "<style>\n",
              "  .colab-df-quickchart {\n",
              "      --bg-color: #E8F0FE;\n",
              "      --fill-color: #1967D2;\n",
              "      --hover-bg-color: #E2EBFA;\n",
              "      --hover-fill-color: #174EA6;\n",
              "      --disabled-fill-color: #AAA;\n",
              "      --disabled-bg-color: #DDD;\n",
              "  }\n",
              "\n",
              "  [theme=dark] .colab-df-quickchart {\n",
              "      --bg-color: #3B4455;\n",
              "      --fill-color: #D2E3FC;\n",
              "      --hover-bg-color: #434B5C;\n",
              "      --hover-fill-color: #FFFFFF;\n",
              "      --disabled-bg-color: #3B4455;\n",
              "      --disabled-fill-color: #666;\n",
              "  }\n",
              "\n",
              "  .colab-df-quickchart {\n",
              "    background-color: var(--bg-color);\n",
              "    border: none;\n",
              "    border-radius: 50%;\n",
              "    cursor: pointer;\n",
              "    display: none;\n",
              "    fill: var(--fill-color);\n",
              "    height: 32px;\n",
              "    padding: 0;\n",
              "    width: 32px;\n",
              "  }\n",
              "\n",
              "  .colab-df-quickchart:hover {\n",
              "    background-color: var(--hover-bg-color);\n",
              "    box-shadow: 0 1px 2px rgba(60, 64, 67, 0.3), 0 1px 3px 1px rgba(60, 64, 67, 0.15);\n",
              "    fill: var(--button-hover-fill-color);\n",
              "  }\n",
              "\n",
              "  .colab-df-quickchart-complete:disabled,\n",
              "  .colab-df-quickchart-complete:disabled:hover {\n",
              "    background-color: var(--disabled-bg-color);\n",
              "    fill: var(--disabled-fill-color);\n",
              "    box-shadow: none;\n",
              "  }\n",
              "\n",
              "  .colab-df-spinner {\n",
              "    border: 2px solid var(--fill-color);\n",
              "    border-color: transparent;\n",
              "    border-bottom-color: var(--fill-color);\n",
              "    animation:\n",
              "      spin 1s steps(1) infinite;\n",
              "  }\n",
              "\n",
              "  @keyframes spin {\n",
              "    0% {\n",
              "      border-color: transparent;\n",
              "      border-bottom-color: var(--fill-color);\n",
              "      border-left-color: var(--fill-color);\n",
              "    }\n",
              "    20% {\n",
              "      border-color: transparent;\n",
              "      border-left-color: var(--fill-color);\n",
              "      border-top-color: var(--fill-color);\n",
              "    }\n",
              "    30% {\n",
              "      border-color: transparent;\n",
              "      border-left-color: var(--fill-color);\n",
              "      border-top-color: var(--fill-color);\n",
              "      border-right-color: var(--fill-color);\n",
              "    }\n",
              "    40% {\n",
              "      border-color: transparent;\n",
              "      border-right-color: var(--fill-color);\n",
              "      border-top-color: var(--fill-color);\n",
              "    }\n",
              "    60% {\n",
              "      border-color: transparent;\n",
              "      border-right-color: var(--fill-color);\n",
              "    }\n",
              "    80% {\n",
              "      border-color: transparent;\n",
              "      border-right-color: var(--fill-color);\n",
              "      border-bottom-color: var(--fill-color);\n",
              "    }\n",
              "    90% {\n",
              "      border-color: transparent;\n",
              "      border-bottom-color: var(--fill-color);\n",
              "    }\n",
              "  }\n",
              "</style>\n",
              "\n",
              "  <script>\n",
              "    async function quickchart(key) {\n",
              "      const quickchartButtonEl =\n",
              "        document.querySelector('#' + key + ' button');\n",
              "      quickchartButtonEl.disabled = true;  // To prevent multiple clicks.\n",
              "      quickchartButtonEl.classList.add('colab-df-spinner');\n",
              "      try {\n",
              "        const charts = await google.colab.kernel.invokeFunction(\n",
              "            'suggestCharts', [key], {});\n",
              "      } catch (error) {\n",
              "        console.error('Error during call to suggestCharts:', error);\n",
              "      }\n",
              "      quickchartButtonEl.classList.remove('colab-df-spinner');\n",
              "      quickchartButtonEl.classList.add('colab-df-quickchart-complete');\n",
              "    }\n",
              "    (() => {\n",
              "      let quickchartButtonEl =\n",
              "        document.querySelector('#df-c14fe8bd-f92d-4cc6-9557-49e51606b113 button');\n",
              "      quickchartButtonEl.style.display =\n",
              "        google.colab.kernel.accessAllowed ? 'block' : 'none';\n",
              "    })();\n",
              "  </script>\n",
              "</div>\n",
              "    </div>\n",
              "  </div>\n"
            ],
            "text/plain": [
              "       Pregnancies     Glucose  BloodPressure  SkinThickness     Insulin  \\\n",
              "count   768.000000  768.000000     768.000000     768.000000  768.000000   \n",
              "mean      3.845052  120.894531      69.105469      20.536458   79.799479   \n",
              "std       3.369578   31.972618      19.355807      15.952218  115.244002   \n",
              "min       0.000000    0.000000       0.000000       0.000000    0.000000   \n",
              "25%       1.000000   99.000000      62.000000       0.000000    0.000000   \n",
              "50%       3.000000  117.000000      72.000000      23.000000   30.500000   \n",
              "75%       6.000000  140.250000      80.000000      32.000000  127.250000   \n",
              "max      17.000000  199.000000     122.000000      99.000000  846.000000   \n",
              "\n",
              "              BMI  DiabetesPedigreeFunction         Age     Outcome  \n",
              "count  768.000000                768.000000  768.000000  768.000000  \n",
              "mean    31.992578                  0.471876   33.240885    0.348958  \n",
              "std      7.884160                  0.331329   11.760232    0.476951  \n",
              "min      0.000000                  0.078000   21.000000    0.000000  \n",
              "25%     27.300000                  0.243750   24.000000    0.000000  \n",
              "50%     32.000000                  0.372500   29.000000    0.000000  \n",
              "75%     36.600000                  0.626250   41.000000    1.000000  \n",
              "max     67.100000                  2.420000   81.000000    1.000000  "
            ]
          },
          "execution_count": 3,
          "metadata": {},
          "output_type": "execute_result"
        }
      ],
      "source": [
        "# Generate descriptive statistics of the data\n",
        "df.describe()"
      ]
    },
    {
      "cell_type": "markdown",
      "metadata": {
        "id": "iHDoHoBCEP_3"
      },
      "source": [
        "# Convert DataFrame to x (inputs), y (targets) arrays"
      ]
    },
    {
      "cell_type": "code",
      "execution_count": null,
      "metadata": {
        "id": "0mBzp9BSEfQV"
      },
      "outputs": [],
      "source": [
        "input_columns = ['Pregnancies', 'Glucose', 'BloodPressure', 'SkinThickness',\n",
        "                 'Insulin', 'BMI', 'DiabetesPedigreeFunction', 'Age']\n",
        "target_column = 'Outcome'\n",
        "\n",
        "# keep the selected columns and convert to numpy arrays\n",
        "x = df[input_columns].to_numpy()\n",
        "y = df[target_column].to_numpy()"
      ]
    },
    {
      "cell_type": "markdown",
      "metadata": {
        "id": "mll6jZjFEzd0"
      },
      "source": [
        "# Split Dataset to Train-Test"
      ]
    },
    {
      "cell_type": "code",
      "execution_count": null,
      "metadata": {
        "id": "eHBbUoClE1bF"
      },
      "outputs": [],
      "source": [
        "# Split the data set into train (70%) and test (30%) data\n",
        "# Use specific random_state for reproducibility of the returned results\n",
        "\n",
        "x_train, x_test, y_train, y_test = train_test_split(x, y, test_size=0.3, random_state=0)"
      ]
    },
    {
      "cell_type": "markdown",
      "metadata": {
        "id": "hCXrTeOiEo1t"
      },
      "source": [
        "# Create a Logistic Regression Model"
      ]
    },
    {
      "cell_type": "code",
      "execution_count": null,
      "metadata": {
        "id": "X85ZOfJnE2m1"
      },
      "outputs": [],
      "source": [
        "# Using the default parameter values, the solver failed to converge during\n",
        "# the fit process (warning message).\n",
        "# This can be avoided by\n",
        "#    * using a different penalty and/or solver,\n",
        "#    * scaling the features through normalization\n",
        "#    * increasing the maximum number of iterations taken for the solvers to converge\n",
        "# Here, we increased the maximum iteration number. Interestingly, the accuracy didn't change.\n",
        "\n",
        "classifier = LogisticRegression(penalty='l2', random_state=0, max_iter=200)"
      ]
    },
    {
      "cell_type": "markdown",
      "metadata": {
        "id": "-LlSei1ZE7D9"
      },
      "source": [
        "# Train Model"
      ]
    },
    {
      "cell_type": "code",
      "execution_count": null,
      "metadata": {
        "id": "w_UWrxJUE8Tl"
      },
      "outputs": [],
      "source": [
        "classifier.fit(x_train, y_train);"
      ]
    },
    {
      "cell_type": "markdown",
      "metadata": {
        "id": "RDn5ikWGL1xX"
      },
      "source": [
        "# Compute Diabetes Predictions"
      ]
    },
    {
      "cell_type": "code",
      "execution_count": null,
      "metadata": {
        "id": "hyEsnYCeL2-I"
      },
      "outputs": [],
      "source": [
        "y_pred = classifier.predict(x_test)"
      ]
    },
    {
      "cell_type": "markdown",
      "metadata": {
        "id": "0w6av4Q5E_O0"
      },
      "source": [
        "# Compute Model's Accuracy"
      ]
    },
    {
      "cell_type": "code",
      "execution_count": null,
      "metadata": {
        "colab": {
          "base_uri": "https://localhost:8080/"
        },
        "id": "ilXUc0ppFAle",
        "outputId": "b817d332-d38c-492a-9ce7-0d136e2f3909"
      },
      "outputs": [
        {
          "name": "stdout",
          "output_type": "stream",
          "text": [
            "0.7792207792207793\n"
          ]
        }
      ],
      "source": [
        "l2_lbfgs_accuracy = accuracy_score(y_test, y_pred)\n",
        "print(l2_lbfgs_accuracy)"
      ]
    },
    {
      "cell_type": "markdown",
      "metadata": {
        "id": "naFQlpYq8ZoZ"
      },
      "source": [
        "# Investigate the impact of feature scaling\n",
        "\n"
      ]
    },
    {
      "cell_type": "code",
      "execution_count": null,
      "metadata": {
        "colab": {
          "base_uri": "https://localhost:8080/"
        },
        "id": "IqKejWuo8k95",
        "outputId": "7401775f-2710-4f66-e81c-60e54c63186c"
      },
      "outputs": [
        {
          "name": "stdout",
          "output_type": "stream",
          "text": [
            "0.7792207792207793\n"
          ]
        }
      ],
      "source": [
        "# The convergence warning message disappears also by scaling the features.\n",
        "# We tested several penalty and solver options using the scaled data.\n",
        "# Here, we present the results derived using 'l2' penalty and the default solver.\n",
        "\n",
        "scaler = StandardScaler()\n",
        "x_train_scaled = scaler.fit_transform(x_train)\n",
        "x_test_scaled = scaler.transform(x_test)\n",
        "\n",
        "classifier = LogisticRegression(penalty='l2', random_state=0)\n",
        "classifier.fit(x_train_scaled, y_train);\n",
        "y_pred = classifier.predict(x_test_scaled)\n",
        "print(accuracy_score(y_test, y_pred))\n",
        "\n",
        "# Since the accuracy does not change significantly in any case, we decided\n",
        "# to use the non-scaled data in the following"
      ]
    },
    {
      "cell_type": "markdown",
      "metadata": {
        "id": "Zkav3E6c89Wi"
      },
      "source": [
        "# Repeat with different solver\n",
        "\n"
      ]
    },
    {
      "cell_type": "code",
      "execution_count": null,
      "metadata": {
        "colab": {
          "base_uri": "https://localhost:8080/"
        },
        "id": "QdUCJox69HZR",
        "outputId": "39a19e12-06f1-4f79-d591-c1baf89895dd"
      },
      "outputs": [
        {
          "name": "stdout",
          "output_type": "stream",
          "text": [
            "0.7835497835497836\n"
          ]
        }
      ],
      "source": [
        "# The convergence warning message disappears also by changing the solver to 'liblinear'.\n",
        "# In addition, the accuracy is slightly improved.\n",
        "\n",
        "classifier = LogisticRegression(penalty='l2', random_state=0, solver='liblinear')\n",
        "classifier.fit(x_train, y_train);\n",
        "y_pred = classifier.predict(x_test)\n",
        "l2_liblinear_accuracy = accuracy_score(y_test, y_pred)\n",
        "print(l2_liblinear_accuracy)"
      ]
    },
    {
      "cell_type": "markdown",
      "metadata": {
        "id": "Ywd2DBL49Ens"
      },
      "source": [
        "# Repeat with l1 penalty\n",
        "\n"
      ]
    },
    {
      "cell_type": "code",
      "execution_count": null,
      "metadata": {
        "colab": {
          "base_uri": "https://localhost:8080/"
        },
        "id": "IXhrIbrz9Z41",
        "outputId": "9783353f-a65d-4378-8459-09ff958df5ac"
      },
      "outputs": [
        {
          "name": "stdout",
          "output_type": "stream",
          "text": [
            "0.7835497835497836\n"
          ]
        }
      ],
      "source": [
        "# The resulted accuracy is the same for both 'l1' and 'l2' penalty when\n",
        "# the solver is set to 'liblinear'.\n",
        "\n",
        "classifier = LogisticRegression(penalty='l1', random_state=0, solver='liblinear')\n",
        "classifier.fit(x_train, y_train);\n",
        "y_pred = classifier.predict(x_test)\n",
        "l1_liblinear_accuracy = accuracy_score(y_test, y_pred)\n",
        "print(l1_liblinear_accuracy)"
      ]
    },
    {
      "cell_type": "markdown",
      "metadata": {
        "id": "oNF7Ld3u9GAW"
      },
      "source": [
        "# Repeat without penalty\n",
        "\n"
      ]
    },
    {
      "cell_type": "code",
      "execution_count": null,
      "metadata": {
        "colab": {
          "base_uri": "https://localhost:8080/"
        },
        "id": "napsE7Uy9e-L",
        "outputId": "dcb26f5b-5f63-4562-8d11-8ef233c3e2dc"
      },
      "outputs": [
        {
          "name": "stdout",
          "output_type": "stream",
          "text": [
            "0.7792207792207793\n"
          ]
        }
      ],
      "source": [
        "# The convergence warning appears again when no penalty is applied.\n",
        "# So, the maximum number of iterations was increased again.\n",
        "\n",
        "classifier = LogisticRegression(penalty=None, random_state=0, max_iter=200)\n",
        "classifier.fit(x_train, y_train);\n",
        "y_pred = classifier.predict(x_test)\n",
        "no_penalty_accuracy = accuracy_score(y_test, y_pred)\n",
        "print(no_penalty_accuracy)"
      ]
    },
    {
      "cell_type": "markdown",
      "metadata": {
        "id": "ikIIMv-R9nX-"
      },
      "source": [
        "# Present results in a pandas dataframe\n",
        "\n"
      ]
    },
    {
      "cell_type": "code",
      "execution_count": null,
      "metadata": {
        "colab": {
          "base_uri": "https://localhost:8080/",
          "height": 175
        },
        "id": "nl4ZvaQb9wd_",
        "outputId": "60a0269d-0281-4d9d-edb2-992dcd9f627a"
      },
      "outputs": [
        {
          "data": {
            "text/html": [
              "\n",
              "  <div id=\"df-42c877f8-a18b-479d-b333-c0944541bef7\" class=\"colab-df-container\">\n",
              "    <div>\n",
              "<style scoped>\n",
              "    .dataframe tbody tr th:only-of-type {\n",
              "        vertical-align: middle;\n",
              "    }\n",
              "\n",
              "    .dataframe tbody tr th {\n",
              "        vertical-align: top;\n",
              "    }\n",
              "\n",
              "    .dataframe thead th {\n",
              "        text-align: right;\n",
              "    }\n",
              "</style>\n",
              "<table border=\"1\" class=\"dataframe\">\n",
              "  <thead>\n",
              "    <tr style=\"text-align: right;\">\n",
              "      <th></th>\n",
              "      <th>penalty</th>\n",
              "      <th>solver</th>\n",
              "      <th>accuracy</th>\n",
              "    </tr>\n",
              "  </thead>\n",
              "  <tbody>\n",
              "    <tr>\n",
              "      <th>1</th>\n",
              "      <td>None</td>\n",
              "      <td>lbfgs</td>\n",
              "      <td>0.779221</td>\n",
              "    </tr>\n",
              "    <tr>\n",
              "      <th>2</th>\n",
              "      <td>l2</td>\n",
              "      <td>lbfgs</td>\n",
              "      <td>0.779221</td>\n",
              "    </tr>\n",
              "    <tr>\n",
              "      <th>3</th>\n",
              "      <td>l2</td>\n",
              "      <td>liblinear</td>\n",
              "      <td>0.783550</td>\n",
              "    </tr>\n",
              "    <tr>\n",
              "      <th>4</th>\n",
              "      <td>l1</td>\n",
              "      <td>liblinear</td>\n",
              "      <td>0.783550</td>\n",
              "    </tr>\n",
              "  </tbody>\n",
              "</table>\n",
              "</div>\n",
              "    <div class=\"colab-df-buttons\">\n",
              "\n",
              "  <div class=\"colab-df-container\">\n",
              "    <button class=\"colab-df-convert\" onclick=\"convertToInteractive('df-42c877f8-a18b-479d-b333-c0944541bef7')\"\n",
              "            title=\"Convert this dataframe to an interactive table.\"\n",
              "            style=\"display:none;\">\n",
              "\n",
              "  <svg xmlns=\"http://www.w3.org/2000/svg\" height=\"24px\" viewBox=\"0 -960 960 960\">\n",
              "    <path d=\"M120-120v-720h720v720H120Zm60-500h600v-160H180v160Zm220 220h160v-160H400v160Zm0 220h160v-160H400v160ZM180-400h160v-160H180v160Zm440 0h160v-160H620v160ZM180-180h160v-160H180v160Zm440 0h160v-160H620v160Z\"/>\n",
              "  </svg>\n",
              "    </button>\n",
              "\n",
              "  <style>\n",
              "    .colab-df-container {\n",
              "      display:flex;\n",
              "      gap: 12px;\n",
              "    }\n",
              "\n",
              "    .colab-df-convert {\n",
              "      background-color: #E8F0FE;\n",
              "      border: none;\n",
              "      border-radius: 50%;\n",
              "      cursor: pointer;\n",
              "      display: none;\n",
              "      fill: #1967D2;\n",
              "      height: 32px;\n",
              "      padding: 0 0 0 0;\n",
              "      width: 32px;\n",
              "    }\n",
              "\n",
              "    .colab-df-convert:hover {\n",
              "      background-color: #E2EBFA;\n",
              "      box-shadow: 0px 1px 2px rgba(60, 64, 67, 0.3), 0px 1px 3px 1px rgba(60, 64, 67, 0.15);\n",
              "      fill: #174EA6;\n",
              "    }\n",
              "\n",
              "    .colab-df-buttons div {\n",
              "      margin-bottom: 4px;\n",
              "    }\n",
              "\n",
              "    [theme=dark] .colab-df-convert {\n",
              "      background-color: #3B4455;\n",
              "      fill: #D2E3FC;\n",
              "    }\n",
              "\n",
              "    [theme=dark] .colab-df-convert:hover {\n",
              "      background-color: #434B5C;\n",
              "      box-shadow: 0px 1px 3px 1px rgba(0, 0, 0, 0.15);\n",
              "      filter: drop-shadow(0px 1px 2px rgba(0, 0, 0, 0.3));\n",
              "      fill: #FFFFFF;\n",
              "    }\n",
              "  </style>\n",
              "\n",
              "    <script>\n",
              "      const buttonEl =\n",
              "        document.querySelector('#df-42c877f8-a18b-479d-b333-c0944541bef7 button.colab-df-convert');\n",
              "      buttonEl.style.display =\n",
              "        google.colab.kernel.accessAllowed ? 'block' : 'none';\n",
              "\n",
              "      async function convertToInteractive(key) {\n",
              "        const element = document.querySelector('#df-42c877f8-a18b-479d-b333-c0944541bef7');\n",
              "        const dataTable =\n",
              "          await google.colab.kernel.invokeFunction('convertToInteractive',\n",
              "                                                    [key], {});\n",
              "        if (!dataTable) return;\n",
              "\n",
              "        const docLinkHtml = 'Like what you see? Visit the ' +\n",
              "          '<a target=\"_blank\" href=https://colab.research.google.com/notebooks/data_table.ipynb>data table notebook</a>'\n",
              "          + ' to learn more about interactive tables.';\n",
              "        element.innerHTML = '';\n",
              "        dataTable['output_type'] = 'display_data';\n",
              "        await google.colab.output.renderOutput(dataTable, element);\n",
              "        const docLink = document.createElement('div');\n",
              "        docLink.innerHTML = docLinkHtml;\n",
              "        element.appendChild(docLink);\n",
              "      }\n",
              "    </script>\n",
              "  </div>\n",
              "\n",
              "\n",
              "<div id=\"df-0afcaab8-6a80-46dd-af64-163126c09e60\">\n",
              "  <button class=\"colab-df-quickchart\" onclick=\"quickchart('df-0afcaab8-6a80-46dd-af64-163126c09e60')\"\n",
              "            title=\"Suggest charts.\"\n",
              "            style=\"display:none;\">\n",
              "\n",
              "<svg xmlns=\"http://www.w3.org/2000/svg\" height=\"24px\"viewBox=\"0 0 24 24\"\n",
              "     width=\"24px\">\n",
              "    <g>\n",
              "        <path d=\"M19 3H5c-1.1 0-2 .9-2 2v14c0 1.1.9 2 2 2h14c1.1 0 2-.9 2-2V5c0-1.1-.9-2-2-2zM9 17H7v-7h2v7zm4 0h-2V7h2v10zm4 0h-2v-4h2v4z\"/>\n",
              "    </g>\n",
              "</svg>\n",
              "  </button>\n",
              "\n",
              "<style>\n",
              "  .colab-df-quickchart {\n",
              "      --bg-color: #E8F0FE;\n",
              "      --fill-color: #1967D2;\n",
              "      --hover-bg-color: #E2EBFA;\n",
              "      --hover-fill-color: #174EA6;\n",
              "      --disabled-fill-color: #AAA;\n",
              "      --disabled-bg-color: #DDD;\n",
              "  }\n",
              "\n",
              "  [theme=dark] .colab-df-quickchart {\n",
              "      --bg-color: #3B4455;\n",
              "      --fill-color: #D2E3FC;\n",
              "      --hover-bg-color: #434B5C;\n",
              "      --hover-fill-color: #FFFFFF;\n",
              "      --disabled-bg-color: #3B4455;\n",
              "      --disabled-fill-color: #666;\n",
              "  }\n",
              "\n",
              "  .colab-df-quickchart {\n",
              "    background-color: var(--bg-color);\n",
              "    border: none;\n",
              "    border-radius: 50%;\n",
              "    cursor: pointer;\n",
              "    display: none;\n",
              "    fill: var(--fill-color);\n",
              "    height: 32px;\n",
              "    padding: 0;\n",
              "    width: 32px;\n",
              "  }\n",
              "\n",
              "  .colab-df-quickchart:hover {\n",
              "    background-color: var(--hover-bg-color);\n",
              "    box-shadow: 0 1px 2px rgba(60, 64, 67, 0.3), 0 1px 3px 1px rgba(60, 64, 67, 0.15);\n",
              "    fill: var(--button-hover-fill-color);\n",
              "  }\n",
              "\n",
              "  .colab-df-quickchart-complete:disabled,\n",
              "  .colab-df-quickchart-complete:disabled:hover {\n",
              "    background-color: var(--disabled-bg-color);\n",
              "    fill: var(--disabled-fill-color);\n",
              "    box-shadow: none;\n",
              "  }\n",
              "\n",
              "  .colab-df-spinner {\n",
              "    border: 2px solid var(--fill-color);\n",
              "    border-color: transparent;\n",
              "    border-bottom-color: var(--fill-color);\n",
              "    animation:\n",
              "      spin 1s steps(1) infinite;\n",
              "  }\n",
              "\n",
              "  @keyframes spin {\n",
              "    0% {\n",
              "      border-color: transparent;\n",
              "      border-bottom-color: var(--fill-color);\n",
              "      border-left-color: var(--fill-color);\n",
              "    }\n",
              "    20% {\n",
              "      border-color: transparent;\n",
              "      border-left-color: var(--fill-color);\n",
              "      border-top-color: var(--fill-color);\n",
              "    }\n",
              "    30% {\n",
              "      border-color: transparent;\n",
              "      border-left-color: var(--fill-color);\n",
              "      border-top-color: var(--fill-color);\n",
              "      border-right-color: var(--fill-color);\n",
              "    }\n",
              "    40% {\n",
              "      border-color: transparent;\n",
              "      border-right-color: var(--fill-color);\n",
              "      border-top-color: var(--fill-color);\n",
              "    }\n",
              "    60% {\n",
              "      border-color: transparent;\n",
              "      border-right-color: var(--fill-color);\n",
              "    }\n",
              "    80% {\n",
              "      border-color: transparent;\n",
              "      border-right-color: var(--fill-color);\n",
              "      border-bottom-color: var(--fill-color);\n",
              "    }\n",
              "    90% {\n",
              "      border-color: transparent;\n",
              "      border-bottom-color: var(--fill-color);\n",
              "    }\n",
              "  }\n",
              "</style>\n",
              "\n",
              "  <script>\n",
              "    async function quickchart(key) {\n",
              "      const quickchartButtonEl =\n",
              "        document.querySelector('#' + key + ' button');\n",
              "      quickchartButtonEl.disabled = true;  // To prevent multiple clicks.\n",
              "      quickchartButtonEl.classList.add('colab-df-spinner');\n",
              "      try {\n",
              "        const charts = await google.colab.kernel.invokeFunction(\n",
              "            'suggestCharts', [key], {});\n",
              "      } catch (error) {\n",
              "        console.error('Error during call to suggestCharts:', error);\n",
              "      }\n",
              "      quickchartButtonEl.classList.remove('colab-df-spinner');\n",
              "      quickchartButtonEl.classList.add('colab-df-quickchart-complete');\n",
              "    }\n",
              "    (() => {\n",
              "      let quickchartButtonEl =\n",
              "        document.querySelector('#df-0afcaab8-6a80-46dd-af64-163126c09e60 button');\n",
              "      quickchartButtonEl.style.display =\n",
              "        google.colab.kernel.accessAllowed ? 'block' : 'none';\n",
              "    })();\n",
              "  </script>\n",
              "</div>\n",
              "    </div>\n",
              "  </div>\n"
            ],
            "text/plain": [
              "  penalty     solver  accuracy\n",
              "1    None      lbfgs  0.779221\n",
              "2      l2      lbfgs  0.779221\n",
              "3      l2  liblinear  0.783550\n",
              "4      l1  liblinear  0.783550"
            ]
          },
          "execution_count": 14,
          "metadata": {},
          "output_type": "execute_result"
        }
      ],
      "source": [
        "results = pd.DataFrame({\n",
        "    'penalty': ['None', 'l2', 'l2', 'l1'],\n",
        "    'solver': ['lbfgs', 'lbfgs', 'liblinear', 'liblinear'],\n",
        "    'accuracy': [no_penalty_accuracy, l2_lbfgs_accuracy, l2_liblinear_accuracy, l1_liblinear_accuracy]\n",
        "})\n",
        "results"
      ]
    },
    {
      "cell_type": "markdown",
      "metadata": {
        "id": "vW6W6pW5FBAN"
      },
      "source": [
        "# -- Answer The Question: --\n",
        "# Which model is better:\n",
        "\n",
        "\n",
        "*   A model that mostly predicts that a patient has no Diabetes, even though they have\n",
        "*   A model that mostly predicts that a patient has diabetes, even though they don't have\n",
        "\n"
      ]
    },
    {
      "cell_type": "code",
      "execution_count": null,
      "metadata": {
        "colab": {
          "base_uri": "https://localhost:8080/"
        },
        "id": "Mvv7HWoXAcBQ",
        "outputId": "f9dec9c3-31e9-4099-dd0c-d3274379c60d"
      },
      "outputs": [
        {
          "name": "stdout",
          "output_type": "stream",
          "text": [
            "Number of FP predictions: 15\n",
            "Number of FN predictions: 35\n",
            "FP rate: 9.55%\n",
            "FN rate: 47.30%\n",
            "Percentage of positive samples in the test set: 32.03%\n"
          ]
        }
      ],
      "source": [
        "# We'll investigate the performance of our model by calculating the number of\n",
        "# false positive (FP) and false negative (FN) predictions.\n",
        "\n",
        "# We train again the model using the 'l2' penalty and the 'liblinear' solver,\n",
        "# based on the accuracy investigation done previously\n",
        "classifier = LogisticRegression(penalty='l2', random_state=0, solver='liblinear')\n",
        "classifier.fit(x_train, y_train);\n",
        "y_pred = classifier.predict(x_test)\n",
        "\n",
        "# Calculate the number of FP and FN predictions\n",
        "TP, FP, TN, FN = 0, 0, 0, 0\n",
        "\n",
        "for i in range(len(y_pred)):\n",
        "    if y_test[i]==y_pred[i]==1:\n",
        "        TP += 1\n",
        "    elif y_pred[i]==1 and y_test[i]!=y_pred[i]:\n",
        "        FP += 1\n",
        "    elif y_test[i]==y_pred[i]==0:\n",
        "        TN += 1\n",
        "    elif y_pred[i]==0 and y_test[i]!=y_pred[i]:\n",
        "        FN += 1\n",
        "\n",
        "# Calculate the FP and FN rates\n",
        "FP_rate = FP / (FP + TN)\n",
        "FN_rate = FN / (FN + TP)\n",
        "\n",
        "print(f'Number of FP predictions: {FP}')\n",
        "print(f'Number of FN predictions: {FN}')\n",
        "print(f'FP rate: {100*FP_rate:.2f}%')\n",
        "print(f'FN rate: {100*FN_rate:.2f}%')\n",
        "print(f'Percentage of positive samples in the test set: {100*(FN + TP)/len(y_test):.2f}%')"
      ]
    },
    {
      "cell_type": "markdown",
      "metadata": {
        "id": "Dv-0KHz7E5zO"
      },
      "source": [
        "More false negative (FN = 35) than false positive (FP = 15) predictions.  \n",
        "The FN rate is \\~47%, which is much larger compared to the FP rate (~9.6%).  \n",
        "The FN rate is quite large also due to the fact that the data set is  slightly imbalanced, since 30% of  \n",
        "the test samples correspond to a class of 1 (smaller denominator in FN rate compared to FP rate).  \n",
        "\n",
        "The model mostly predicts that a patient has not diabetes even though they have.  \n",
        "\n",
        "Patients with FP results in disease diagnostic testing may be exposed to further tests and/or  \n",
        "unnecessary treatment and emotional trauma.  \n",
        "\n",
        "On the other hand, FN results may lead to false reassurance, not performing further necessary  \n",
        "testing and failure to initiate therapy. This may result in worsening of the disease and even death  \n",
        "in the worst-case scenario.  \n",
        "\n",
        "Considering the above, not predicting that a patient has diabetes even though they have seems to be worse."
      ]
    },
    {
      "cell_type": "markdown",
      "metadata": {
        "id": "97IWZ1DoFocl"
      },
      "source": [
        "# Repeat same process for ages:\n",
        "\n",
        "\n",
        "\n",
        "*   0-40\n",
        "*   41-100\n",
        "\n"
      ]
    },
    {
      "cell_type": "code",
      "execution_count": null,
      "metadata": {
        "colab": {
          "base_uri": "https://localhost:8080/"
        },
        "id": "qLgtOZ5fQUrp",
        "outputId": "e52c51e2-e4dc-40e2-e21c-e8c98626741c"
      },
      "outputs": [
        {
          "name": "stdout",
          "output_type": "stream",
          "text": [
            "Accuracy for 0-40 age group: 0.78\n",
            "Accuracy for ages 41+: 0.81\n"
          ]
        }
      ],
      "source": [
        "# We use the last trained model with 'l2' penalty and 'liblinear' solver.\n",
        "\n",
        "# Make predictions and calculate the accuracy for the 0-40 age group\n",
        "x_test_0_40 = x_test[(x_test[:,-1] <= 40)]\n",
        "y_test_0_40 = y_test[(x_test[:,-1] <= 40)]\n",
        "y_pred_0_40 = classifier.predict(x_test_0_40)\n",
        "accuracy_0_40 = accuracy_score(y_test_0_40, y_pred_0_40)\n",
        "print(f'Accuracy for 0-40 age group: {accuracy_0_40:.2f}')\n",
        "\n",
        "# Make predictions and calculate the accuracy for ages 41+\n",
        "x_test_41_ = x_test[(x_test[:,-1] > 40)]\n",
        "y_test_41_ = y_test[(x_test[:,-1] > 40)]\n",
        "y_pred_41_ = classifier.predict(x_test_41_)\n",
        "accuracy_41_ = accuracy_score(y_test_41_, y_pred_41_)\n",
        "print(f'Accuracy for ages 41+: {accuracy_41_:.2f}')"
      ]
    },
    {
      "cell_type": "code",
      "execution_count": null,
      "metadata": {
        "colab": {
          "base_uri": "https://localhost:8080/",
          "height": 410
        },
        "id": "gKAIprWUXi4h",
        "outputId": "9a7436f7-2b15-4c34-b785-dacabecd778c"
      },
      "outputs": [
        {
          "data": {
            "image/png": "[encoded data removed]",
            "text/plain": [
              "<Figure size 600x400 with 1 Axes>"
            ]
          },
          "metadata": {},
          "output_type": "display_data"
        }
      ],
      "source": [
        "# Present the derived accuracy for both groups in a bar plot\n",
        "fig = plt.figure(figsize=(6, 4))\n",
        "bar_colors = ['tab:blue', 'tab:orange']\n",
        "plt.bar(['0-40', '41+'], [accuracy_0_40, accuracy_41_], color=bar_colors)\n",
        "plt.yticks(np.arange(0, 1.1, .2))\n",
        "plt.ylabel('accuracy')\n",
        "plt.xlabel('age group')\n",
        "plt.title('Estimated accuracy for different age groups');"
      ]
    },
    {
      "cell_type": "markdown",
      "metadata": {
        "id": "fpYS5kwVK9hP"
      },
      "source": [
        "The accuracy for both age groups is quite similar, with the accuracy for ages 41+ being only slightly better."
      ]
    },
    {
      "cell_type": "code",
      "execution_count": null,
      "metadata": {
        "colab": {
          "base_uri": "https://localhost:8080/"
        },
        "id": "GWLzKIGkRw59",
        "outputId": "29d25aea-2382-478f-f410-7c97dd621fa2"
      },
      "outputs": [
        {
          "name": "stdout",
          "output_type": "stream",
          "text": [
            "Number of FP predictions: 11\n",
            "Number of FN predictions: 29\n",
            "FP rate: 8.59%\n",
            "FN rate: 58.00%\n",
            "Percentage of positive samples in the test set: 28.09%\n",
            "Percentage of positive samples in the train set: 29.29%\n"
          ]
        }
      ],
      "source": [
        "# Investigate the FP and FN predictions for the 0-40 age group\n",
        "\n",
        "TP, FP, TN, FN = 0, 0, 0, 0\n",
        "\n",
        "for i in range(len(y_pred_0_40)):\n",
        "    if y_test_0_40[i]==y_pred_0_40[i]==1:\n",
        "        TP += 1\n",
        "    elif y_pred_0_40[i]==1 and y_test_0_40[i]!=y_pred_0_40[i]:\n",
        "        FP += 1\n",
        "    elif y_test_0_40[i]==y_pred_0_40[i]==0:\n",
        "        TN += 1\n",
        "    elif y_pred_0_40[i]==0 and y_test_0_40[i]!=y_pred_0_40[i]:\n",
        "        FN += 1\n",
        "\n",
        "FP_rate = FP / (FP + TN)\n",
        "FN_rate = FN / (FN + TP)\n",
        "\n",
        "print(f'Number of FP predictions: {FP}')\n",
        "print(f'Number of FN predictions: {FN}')\n",
        "print(f'FP rate: {100*FP_rate:.2f}%')\n",
        "print(f'FN rate: {100*FN_rate:.2f}%')\n",
        "print(f'Percentage of positive samples in the test set: \\\n",
        "{100*(FN + TP)/len(y_test_0_40):.2f}%')\n",
        "\n",
        "x_train_0_40 = x_train[(x_train[:,-1] <= 40)]\n",
        "y_train_0_40 = y_train[(x_train[:,-1] <= 40)]\n",
        "print(f'Percentage of positive samples in the train set: \\\n",
        "{100 * len([y for y in y_train_0_40 if y]) / len(y_train_0_40):.2f}%')"
      ]
    },
    {
      "cell_type": "code",
      "execution_count": null,
      "metadata": {
        "colab": {
          "base_uri": "https://localhost:8080/"
        },
        "id": "5y3dIv4NSLdL",
        "outputId": "0c3819a1-bdf1-43fb-bd0b-a5d650f30029"
      },
      "outputs": [
        {
          "name": "stdout",
          "output_type": "stream",
          "text": [
            "Number of FP predictions: 4\n",
            "Number of FN predictions: 6\n",
            "FP rate: 13.79%\n",
            "FN rate: 25.00%\n",
            "Percentage of positive samples in the test set: 45.28%\n",
            "Percentage of positive samples in the train set: 55.32%\n"
          ]
        }
      ],
      "source": [
        "# Investigate the FP and FN predictions for ages 41+\n",
        "\n",
        "TP, FP, TN, FN = 0, 0, 0, 0\n",
        "\n",
        "for i in range(len(y_pred_41_)):\n",
        "    if y_test_41_[i]==y_pred_41_[i]==1:\n",
        "        TP += 1\n",
        "    elif y_pred_41_[i]==1 and y_test_41_[i]!=y_pred_41_[i]:\n",
        "        FP += 1\n",
        "    elif y_test_41_[i]==y_pred_41_[i]==0:\n",
        "        TN += 1\n",
        "    elif y_pred_41_[i]==0 and y_test_41_[i]!=y_pred_41_[i]:\n",
        "        FN += 1\n",
        "\n",
        "FP_rate = FP / (FP + TN)\n",
        "FN_rate = FN / (FN + TP)\n",
        "\n",
        "print(f'Number of FP predictions: {FP}')\n",
        "print(f'Number of FN predictions: {FN}')\n",
        "print(f'FP rate: {100*FP_rate:.2f}%')\n",
        "print(f'FN rate: {100*FN_rate:.2f}%')\n",
        "print(f'Percentage of positive samples in the test set: \\\n",
        "{100*(FN + TP)/len(y_test_41_):.2f}%')\n",
        "\n",
        "x_train_41_ = x_train[(x_train[:,-1] > 40)]\n",
        "y_train_41_ = y_train[(x_train[:,-1] > 40)]\n",
        "print(f'Percentage of positive samples in the train set: \\\n",
        "{100 * len([y for y in y_train_41_ if y]) / len(y_train_41_):.2f}%')"
      ]
    },
    {
      "cell_type": "markdown",
      "metadata": {
        "id": "tiAisRDlkY6p"
      },
      "source": [
        "The performance of the model seems to be much better for the age group of 41+ in the case of  \n",
        "the samples positive for diabetes compared to the 0-40 group.  \n",
        "\n",
        "For the group 40+, the number of FP and FN predictions are comparable (4 and 6, respectively).  \n",
        "Whereas, for the 0-40 group, the number of FN (29) is almost three times the FP number (11),  \n",
        "with the FN rate being quite large (58%).\n",
        "\n",
        "The reason for the good performance of the model for the 41+ group is that the data set used for  \n",
        "training is more balanced for the ages 41+ with the positive cases (class of 1) being about half  \n",
        "of the total number of samples (~55%).\n",
        "In the case of 0-40 ages, the training data set is quite  \n",
        "imbalanced, with positive cases of about 29% of the total sample size.\n",
        "So, the model has been  \n",
        "trained to predict more accurately the positive class for ages >40 compared to the other group."
      ]
    },
    {
      "cell_type": "markdown",
      "metadata": {
        "id": "nAmX2EqQEcBd"
      },
      "source": [
        "# Ex2. Linear Regression"
      ]
    },
    {
      "cell_type": "markdown",
      "metadata": {
        "id": "jmWWKp_AFxrt"
      },
      "source": [
        "# Select Corresponding Features for this task"
      ]
    },
    {
      "cell_type": "code",
      "execution_count": null,
      "metadata": {
        "id": "xVfk17w4EdmM"
      },
      "outputs": [],
      "source": [
        "input_columns = ['Pregnancies', 'BMI', 'Age']\n",
        "target_column = 'BloodPressure'"
      ]
    },
    {
      "cell_type": "markdown",
      "metadata": {
        "id": "cjfhnsymF2G1"
      },
      "source": [
        "# Split Dataset to x, y"
      ]
    },
    {
      "cell_type": "code",
      "execution_count": null,
      "metadata": {
        "id": "1XjYBd9DIcz1"
      },
      "outputs": [],
      "source": [
        "# keep the selected columns and convert to numpy arrays\n",
        "\n",
        "x = df[input_columns].to_numpy()\n",
        "y = df[target_column].to_numpy()"
      ]
    },
    {
      "cell_type": "markdown",
      "metadata": {
        "id": "qOIVMHA5IdX3"
      },
      "source": [
        "# Split Dataset to Train-Test"
      ]
    },
    {
      "cell_type": "code",
      "execution_count": null,
      "metadata": {
        "id": "r1w4pSxyIfD2"
      },
      "outputs": [],
      "source": [
        "# Split the data set into train (70%) and test (30%) data\n",
        "# Use specific random_state for reproducibility of the returned results\n",
        "\n",
        "x_train, x_test, y_train, y_test = train_test_split(x, y, test_size=0.3, random_state=0)"
      ]
    },
    {
      "cell_type": "markdown",
      "metadata": {
        "id": "Rv_fegtXIfjG"
      },
      "source": [
        "# Compute BloodPressure Predictions"
      ]
    },
    {
      "cell_type": "code",
      "execution_count": null,
      "metadata": {
        "id": "kbeE6H9UJxSG"
      },
      "outputs": [],
      "source": [
        "# instantiate a linear regression model\n",
        "regressor = LinearRegression()\n",
        "\n",
        "# train the model\n",
        "regressor.fit(x_train, y_train)\n",
        "\n",
        "# predict BloodPressure\n",
        "y_pred = regressor.predict(x_test)"
      ]
    },
    {
      "cell_type": "markdown",
      "metadata": {
        "id": "EUQSHl91Jx32"
      },
      "source": [
        "# Measure MAE"
      ]
    },
    {
      "cell_type": "code",
      "execution_count": null,
      "metadata": {
        "colab": {
          "base_uri": "https://localhost:8080/"
        },
        "id": "B1EEpRbQJzdm",
        "outputId": "27110666-c7dc-46b3-d812-cc18b0cb878d"
      },
      "outputs": [
        {
          "name": "stdout",
          "output_type": "stream",
          "text": [
            "The Mean Absolute Error of the Linear Regression Model is 10.923\n"
          ]
        }
      ],
      "source": [
        "# Compute the Mean Absolute Error for the predicted values\n",
        "mae = mean_absolute_error(y_test, y_pred)\n",
        "print(f'The Mean Absolute Error of the Linear Regression Model is {mae:.3f}')"
      ]
    },
    {
      "cell_type": "markdown",
      "metadata": {
        "id": "efBDaapKbLn9"
      },
      "source": [
        "# Investigate BloodPressure distribution"
      ]
    },
    {
      "cell_type": "code",
      "execution_count": null,
      "metadata": {
        "colab": {
          "base_uri": "https://localhost:8080/"
        },
        "id": "kbcQswEZbYZJ",
        "outputId": "3c1a7ff8-4063-445e-8988-830b90d6c42a"
      },
      "outputs": [
        {
          "name": "stdout",
          "output_type": "stream",
          "text": [
            "The mean and STD values of BloodPressure in the train set are 69.667 and 19.447, respectively.\n",
            "The mean and STD values of BloodPressure in the test set are 67.801 and 19.037, respectively.\n"
          ]
        }
      ],
      "source": [
        "# Calculate the mean and STD values of Bloodpressure for the train set\n",
        "y_train_mean = np.round(np.mean(y_train), 3)\n",
        "y_train_std = np.round(np.std(y_train), 3)\n",
        "print(f'The mean and STD values of BloodPressure in the train set are \\\n",
        "{y_train_mean} and {y_train_std}, respectively.')\n",
        "\n",
        "# Calculate the mean and STD values of Bloodpressure for the test set\n",
        "y_test_mean = np.round(np.mean(y_test), 3)\n",
        "y_test_std = np.round(np.std(y_test), 3)\n",
        "print(f'The mean and STD values of BloodPressure in the test set are \\\n",
        "{y_test_mean} and {y_test_std}, respectively.')"
      ]
    },
    {
      "cell_type": "code",
      "execution_count": null,
      "metadata": {
        "id": "vd1MNOWkb7tI"
      },
      "outputs": [],
      "source": [
        "# Calculate the probability density function (PDF) assuming normal\n",
        "# distribution for the BloodPressure for both train and test sets\n",
        "\n",
        "pdf_train = stats.norm.pdf(np.sort(y_train), y_train_mean, y_train_std)\n",
        "pdf_test = stats.norm.pdf(np.sort(y_test), y_test_mean, y_test_std)"
      ]
    },
    {
      "cell_type": "code",
      "execution_count": null,
      "metadata": {
        "colab": {
          "base_uri": "https://localhost:8080/",
          "height": 431
        },
        "id": "RCLlKoEXb_ks",
        "outputId": "2da8c559-98ea-4879-f838-d0996d976426"
      },
      "outputs": [
        {
          "data": {
            "image/png": "[encoded data removed]",
            "text/plain": [
              "<Figure size 1000x400 with 2 Axes>"
            ]
          },
          "metadata": {},
          "output_type": "display_data"
        }
      ],
      "source": [
        "# Plot the BloodPressure distribution for both train and test sets along\n",
        "# with the estimated normal PDFs\n",
        "\n",
        "fig, (ax1, ax2) = plt.subplots(1, 2, figsize=(10, 4))\n",
        "\n",
        "ax1.hist(y_train, bins=20, density=True, alpha=0.6)\n",
        "ax1.plot(np.sort(y_train), pdf_train, color='k')\n",
        "ax1.set_xlim(-5, 125)\n",
        "ax1.set_ylim(0, .035)\n",
        "ax1.set_xlabel('BloodPressure')\n",
        "ax1.set_ylabel('Density')\n",
        "ax1.title.set_text(f'BloodPressure | train set\\nMean = {y_train_mean}, STD = {y_train_std}')\n",
        "ax1.grid()\n",
        "ax1.set_axisbelow(True)\n",
        "\n",
        "\n",
        "ax2.hist(y_test, bins=20, density=True, alpha=0.6)\n",
        "ax2.plot(np.sort(y_test), pdf_test, color='k')\n",
        "ax2.set_xlim(-5, 125)\n",
        "ax2.set_ylim(0, .035)\n",
        "ax2.set_xlabel('BloodPressure')\n",
        "ax2.set_ylabel('Density')\n",
        "ax2.title.set_text(f'BloodPressure | test set\\nMean = {y_test_mean}, STD = {y_test_std}')\n",
        "ax2.grid()\n",
        "ax2.set_axisbelow(True)"
      ]
    },
    {
      "cell_type": "markdown",
      "metadata": {
        "id": "gSpRn-iZd6H_"
      },
      "source": [
        "Both the train and test sets follow a distribution close to normal with similar mean value and standard deviation. Some outliers close to 0 are seen for both data sets. This similarity is expected since both data sets are random subsets of the same initial data set."
      ]
    },
    {
      "cell_type": "markdown",
      "metadata": {
        "id": "Rf8clSdxJz1O"
      },
      "source": [
        "# Construct Scatter Plot for each Feature + Regression Line"
      ]
    },
    {
      "cell_type": "code",
      "execution_count": null,
      "metadata": {
        "id": "BGIMBO31J1i2"
      },
      "outputs": [],
      "source": [
        "# Calculate regression line coefficients for the target variable (BloodPressure)\n",
        "# against each feature (Age, BMI, Pregnancies).\n",
        "# We can use the scikit-learn LinearRegression model or any other library function\n",
        "# that does such calculations, such as the numpy polyfit.\n",
        "\n",
        "age = x_train[:,-1]\n",
        "age_regressor = LinearRegression()\n",
        "age_regressor.fit(age.reshape(-1, 1), y_train)\n",
        "y_fitted_4_age = age_regressor.coef_[0] * np.sort(age) + age_regressor.intercept_\n",
        "\n",
        "bmi = x_train[:,1]\n",
        "bmi_regressor = LinearRegression()\n",
        "bmi_regressor.fit(bmi.reshape(-1, 1), y_train)\n",
        "y_fitted_4_bmi = bmi_regressor.coef_[0] * np.sort(bmi) + bmi_regressor.intercept_\n",
        "\n",
        "pregnancies = x_train[:,0]\n",
        "pregnancies_regressor = LinearRegression()\n",
        "pregnancies_regressor.fit(pregnancies.reshape(-1, 1), y_train)\n",
        "y_fitted_4_pregnancies = pregnancies_regressor.coef_[0] * np.sort(pregnancies) \\\n",
        "                       + pregnancies_regressor.intercept_"
      ]
    },
    {
      "cell_type": "code",
      "execution_count": null,
      "metadata": {
        "colab": {
          "base_uri": "https://localhost:8080/",
          "height": 410
        },
        "id": "L7JDTKTTiG3m",
        "outputId": "15e6ade7-a324-4fc2-b73c-2b72ef23c344"
      },
      "outputs": [
        {
          "data": {
            "image/png": "[encoded data removed]",
            "text/plain": [
              "<Figure size 1400x400 with 3 Axes>"
            ]
          },
          "metadata": {},
          "output_type": "display_data"
        }
      ],
      "source": [
        "# Plot the BloodPressure variable against each feature used to train the model\n",
        "\n",
        "fig, (ax1, ax2, ax3) = plt.subplots(1, 3, figsize=(14, 4))\n",
        "\n",
        "ax1.scatter(df['Age'], df['BloodPressure']);\n",
        "ax1.plot(np.sort(age), y_fitted_4_age, color='tab:red')\n",
        "ax1.set_ylabel('BloodPressure')\n",
        "ax1.set_xlabel('Age')\n",
        "ax1.title.set_text(f'Age vs BloodPressure')\n",
        "\n",
        "ax2.scatter(df['BMI'], df['BloodPressure']);\n",
        "ax2.plot(np.sort(bmi), y_fitted_4_bmi, color='tab:red')\n",
        "ax2.set_ylabel('BloodPressure')\n",
        "ax2.set_xlabel('BMI')\n",
        "ax2.title.set_text(f'BMI vs BloodPressure')\n",
        "\n",
        "ax3.scatter(df['Pregnancies'], df['BloodPressure']);\n",
        "ax3.plot(np.sort(pregnancies), y_fitted_4_pregnancies, color='tab:red')\n",
        "ax3.set_ylabel('BloodPressure')\n",
        "ax3.set_xlabel('Pregnancies')\n",
        "ax3.title.set_text(f'Pregnancies vs BloodPressure')"
      ]
    },
    {
      "cell_type": "markdown",
      "metadata": {
        "id": "lYG_x29cbL-a"
      },
      "source": [
        "# Compute BloodPressure Predictions using Stochastic Gradient Descent (SGD)"
      ]
    },
    {
      "cell_type": "code",
      "execution_count": null,
      "metadata": {
        "colab": {
          "base_uri": "https://localhost:8080/"
        },
        "id": "DK-VsJZbjuS7",
        "outputId": "9ca359e3-c98f-4442-f610-699bb40a4a4f"
      },
      "outputs": [
        {
          "name": "stdout",
          "output_type": "stream",
          "text": [
            "The Mean Absolute Error of the SGD Model is 1.872e+12\n",
            "First 5 predictions: [-3.79066235e+12 -1.80750595e+12 -1.11985088e+12  4.32382015e+12\n",
            "  4.48995659e+11]\n",
            "Estimated coefficients: [ 2.32326455e+11 -1.72560932e+11  1.46013266e+11]\n",
            "Estimated intercept: [1.67583336e+11]\n"
          ]
        }
      ],
      "source": [
        "# Instantiate and train the SGD model and predict BloodPressure\n",
        "regressor = SGDRegressor(loss='squared_error', penalty='l2', tol=1e-3, random_state=0,\n",
        "                         learning_rate='constant', eta0=0.01)\n",
        "regressor.fit(x_train, y_train)\n",
        "y_pred_sgd_l2 = regressor.predict(x_test)\n",
        "\n",
        "# Compute MAE for SGD predictions\n",
        "mae_sgd_l2 = mean_absolute_error(y_test, y_pred_sgd_l2)\n",
        "print(f'The Mean Absolute Error of the SGD Model is {mae_sgd_l2:.3e}')\n",
        "\n",
        "# We print the 5 first predictions\n",
        "# The predicted values are much larger compared to the true values of BloodPressure\n",
        "print(f'First 5 predictions: {y_pred_sgd_l2[:5]}')\n",
        "\n",
        "# The estimated fit coefficients and intercept are also large\n",
        "print(f'Estimated coefficients: {regressor.coef_}')\n",
        "print(f'Estimated intercept: {regressor.intercept_}')"
      ]
    },
    {
      "cell_type": "code",
      "execution_count": null,
      "metadata": {
        "colab": {
          "base_uri": "https://localhost:8080/"
        },
        "id": "8GC9SK6ZlKPe",
        "outputId": "3fbf4197-8712-44ce-901e-0eca5fd6f5e9"
      },
      "outputs": [
        {
          "name": "stdout",
          "output_type": "stream",
          "text": [
            "The Mean Absolute Error of the SGD Model is 10.981\n",
            "First 5 predictions: [72.13601862 65.85443569 67.6891152  71.71982801 61.2943312 ]\n",
            "Estimated coefficients: [1.31529143 6.08272071 4.54686999]\n",
            "Estimated intercept: [69.59809337]\n"
          ]
        }
      ],
      "source": [
        "# Stochastic Gradient Descent is very sensitive to feature scaling.\n",
        "# That's the reason for the huge MAE and the meaningless predictions above.\n",
        "# In the following we normalize the feature data and then we apply SGD.\n",
        "# The predictions are significantly improved.\n",
        "\n",
        "scaler = StandardScaler()\n",
        "x_train_scaled = scaler.fit_transform(x_train)\n",
        "x_test_scaled = scaler.transform(x_test)\n",
        "\n",
        "regressor = SGDRegressor(loss='squared_error', penalty='l2', tol=1e-3, random_state=0,\n",
        "                         learning_rate='constant', eta0=0.01)\n",
        "regressor.fit(x_train_scaled, y_train)\n",
        "y_pred_sgd_l2 = regressor.predict(x_test_scaled)\n",
        "\n",
        "mae_sgd_l2 = mean_absolute_error(y_test, y_pred_sgd_l2)\n",
        "print(f'The Mean Absolute Error of the SGD Model is {mae_sgd_l2:.3f}')\n",
        "print(f'First 5 predictions: {y_pred_sgd_l2[:5]}')\n",
        "print(f'Estimated coefficients: {regressor.coef_}')\n",
        "print(f'Estimated intercept: {regressor.intercept_}')"
      ]
    },
    {
      "cell_type": "markdown",
      "metadata": {
        "id": "2drJ2m9Hf2yI"
      },
      "source": [
        "# Repeat using different penalty options"
      ]
    },
    {
      "cell_type": "code",
      "execution_count": null,
      "metadata": {
        "id": "yYZiX9mql6uT"
      },
      "outputs": [],
      "source": [
        "# using penalty 'l1'\n",
        "\n",
        "regressor = SGDRegressor(loss='squared_error', penalty='l1', tol=1e-3, random_state=0,\n",
        "                         learning_rate='constant', eta0=0.01)\n",
        "regressor.fit(x_train_scaled, y_train)\n",
        "y_pred_sgd_l1 = regressor.predict(x_test_scaled)\n",
        "\n",
        "mae_sgd_l1 = mean_absolute_error(y_test, y_pred_sgd_l1)"
      ]
    },
    {
      "cell_type": "code",
      "execution_count": null,
      "metadata": {
        "id": "x0_QNeAImlKn"
      },
      "outputs": [],
      "source": [
        "# using penalty 'elasticnet'\n",
        "\n",
        "regressor = SGDRegressor(loss='squared_error', penalty='elasticnet', tol=1e-3,\n",
        "                         random_state=0, learning_rate='constant', eta0=0.01)\n",
        "regressor.fit(x_train_scaled, y_train)\n",
        "y_pred_sgd_elasticnet = regressor.predict(x_test_scaled)\n",
        "\n",
        "mae_sgd_elasticnet = mean_absolute_error(y_test, y_pred_sgd_elasticnet)"
      ]
    },
    {
      "cell_type": "code",
      "execution_count": null,
      "metadata": {
        "id": "6DPgITs1mtyC"
      },
      "outputs": [],
      "source": [
        "# without penalty\n",
        "\n",
        "regressor = SGDRegressor(loss='squared_error', penalty=None, tol=1e-3, random_state=0,\n",
        "                         learning_rate='constant', eta0=0.01)\n",
        "regressor.fit(x_train_scaled, y_train)\n",
        "y_pred_sgd_no_penalty = regressor.predict(x_test_scaled)\n",
        "\n",
        "mae_sgd_no_penalty = mean_absolute_error(y_test, y_pred_sgd_no_penalty)"
      ]
    },
    {
      "cell_type": "markdown",
      "metadata": {
        "id": "fQMLpAfNf3Eb"
      },
      "source": [
        "# Present results as a pandas dataframe"
      ]
    },
    {
      "cell_type": "code",
      "execution_count": null,
      "metadata": {
        "colab": {
          "base_uri": "https://localhost:8080/",
          "height": 175
        },
        "id": "rIXNsHjCnO8j",
        "outputId": "51fbfc39-2052-4dd9-9a2c-fa3fbed42e20"
      },
      "outputs": [
        {
          "data": {
            "text/html": [
              "\n",
              "  <div id=\"df-250c9dcf-efb2-47c2-833d-8a051b41f933\" class=\"colab-df-container\">\n",
              "    <div>\n",
              "<style scoped>\n",
              "    .dataframe tbody tr th:only-of-type {\n",
              "        vertical-align: middle;\n",
              "    }\n",
              "\n",
              "    .dataframe tbody tr th {\n",
              "        vertical-align: top;\n",
              "    }\n",
              "\n",
              "    .dataframe thead th {\n",
              "        text-align: right;\n",
              "    }\n",
              "</style>\n",
              "<table border=\"1\" class=\"dataframe\">\n",
              "  <thead>\n",
              "    <tr style=\"text-align: right;\">\n",
              "      <th></th>\n",
              "      <th>penalty</th>\n",
              "      <th>MAE</th>\n",
              "    </tr>\n",
              "  </thead>\n",
              "  <tbody>\n",
              "    <tr>\n",
              "      <th>1</th>\n",
              "      <td>l2</td>\n",
              "      <td>10.981086</td>\n",
              "    </tr>\n",
              "    <tr>\n",
              "      <th>2</th>\n",
              "      <td>l1</td>\n",
              "      <td>10.980958</td>\n",
              "    </tr>\n",
              "    <tr>\n",
              "      <th>3</th>\n",
              "      <td>elasticnet</td>\n",
              "      <td>10.981066</td>\n",
              "    </tr>\n",
              "    <tr>\n",
              "      <th>4</th>\n",
              "      <td>None</td>\n",
              "      <td>10.981147</td>\n",
              "    </tr>\n",
              "  </tbody>\n",
              "</table>\n",
              "</div>\n",
              "    <div class=\"colab-df-buttons\">\n",
              "\n",
              "  <div class=\"colab-df-container\">\n",
              "    <button class=\"colab-df-convert\" onclick=\"convertToInteractive('df-250c9dcf-efb2-47c2-833d-8a051b41f933')\"\n",
              "            title=\"Convert this dataframe to an interactive table.\"\n",
              "            style=\"display:none;\">\n",
              "\n",
              "  <svg xmlns=\"http://www.w3.org/2000/svg\" height=\"24px\" viewBox=\"0 -960 960 960\">\n",
              "    <path d=\"M120-120v-720h720v720H120Zm60-500h600v-160H180v160Zm220 220h160v-160H400v160Zm0 220h160v-160H400v160ZM180-400h160v-160H180v160Zm440 0h160v-160H620v160ZM180-180h160v-160H180v160Zm440 0h160v-160H620v160Z\"/>\n",
              "  </svg>\n",
              "    </button>\n",
              "\n",
              "  <style>\n",
              "    .colab-df-container {\n",
              "      display:flex;\n",
              "      gap: 12px;\n",
              "    }\n",
              "\n",
              "    .colab-df-convert {\n",
              "      background-color: #E8F0FE;\n",
              "      border: none;\n",
              "      border-radius: 50%;\n",
              "      cursor: pointer;\n",
              "      display: none;\n",
              "      fill: #1967D2;\n",
              "      height: 32px;\n",
              "      padding: 0 0 0 0;\n",
              "      width: 32px;\n",
              "    }\n",
              "\n",
              "    .colab-df-convert:hover {\n",
              "      background-color: #E2EBFA;\n",
              "      box-shadow: 0px 1px 2px rgba(60, 64, 67, 0.3), 0px 1px 3px 1px rgba(60, 64, 67, 0.15);\n",
              "      fill: #174EA6;\n",
              "    }\n",
              "\n",
              "    .colab-df-buttons div {\n",
              "      margin-bottom: 4px;\n",
              "    }\n",
              "\n",
              "    [theme=dark] .colab-df-convert {\n",
              "      background-color: #3B4455;\n",
              "      fill: #D2E3FC;\n",
              "    }\n",
              "\n",
              "    [theme=dark] .colab-df-convert:hover {\n",
              "      background-color: #434B5C;\n",
              "      box-shadow: 0px 1px 3px 1px rgba(0, 0, 0, 0.15);\n",
              "      filter: drop-shadow(0px 1px 2px rgba(0, 0, 0, 0.3));\n",
              "      fill: #FFFFFF;\n",
              "    }\n",
              "  </style>\n",
              "\n",
              "    <script>\n",
              "      const buttonEl =\n",
              "        document.querySelector('#df-250c9dcf-efb2-47c2-833d-8a051b41f933 button.colab-df-convert');\n",
              "      buttonEl.style.display =\n",
              "        google.colab.kernel.accessAllowed ? 'block' : 'none';\n",
              "\n",
              "      async function convertToInteractive(key) {\n",
              "        const element = document.querySelector('#df-250c9dcf-efb2-47c2-833d-8a051b41f933');\n",
              "        const dataTable =\n",
              "          await google.colab.kernel.invokeFunction('convertToInteractive',\n",
              "                                                    [key], {});\n",
              "        if (!dataTable) return;\n",
              "\n",
              "        const docLinkHtml = 'Like what you see? Visit the ' +\n",
              "          '<a target=\"_blank\" href=https://colab.research.google.com/notebooks/data_table.ipynb>data table notebook</a>'\n",
              "          + ' to learn more about interactive tables.';\n",
              "        element.innerHTML = '';\n",
              "        dataTable['output_type'] = 'display_data';\n",
              "        await google.colab.output.renderOutput(dataTable, element);\n",
              "        const docLink = document.createElement('div');\n",
              "        docLink.innerHTML = docLinkHtml;\n",
              "        element.appendChild(docLink);\n",
              "      }\n",
              "    </script>\n",
              "  </div>\n",
              "\n",
              "\n",
              "<div id=\"df-09c83033-3607-4188-b5ea-7e5b0aac3185\">\n",
              "  <button class=\"colab-df-quickchart\" onclick=\"quickchart('df-09c83033-3607-4188-b5ea-7e5b0aac3185')\"\n",
              "            title=\"Suggest charts.\"\n",
              "            style=\"display:none;\">\n",
              "\n",
              "<svg xmlns=\"http://www.w3.org/2000/svg\" height=\"24px\"viewBox=\"0 0 24 24\"\n",
              "     width=\"24px\">\n",
              "    <g>\n",
              "        <path d=\"M19 3H5c-1.1 0-2 .9-2 2v14c0 1.1.9 2 2 2h14c1.1 0 2-.9 2-2V5c0-1.1-.9-2-2-2zM9 17H7v-7h2v7zm4 0h-2V7h2v10zm4 0h-2v-4h2v4z\"/>\n",
              "    </g>\n",
              "</svg>\n",
              "  </button>\n",
              "\n",
              "<style>\n",
              "  .colab-df-quickchart {\n",
              "      --bg-color: #E8F0FE;\n",
              "      --fill-color: #1967D2;\n",
              "      --hover-bg-color: #E2EBFA;\n",
              "      --hover-fill-color: #174EA6;\n",
              "      --disabled-fill-color: #AAA;\n",
              "      --disabled-bg-color: #DDD;\n",
              "  }\n",
              "\n",
              "  [theme=dark] .colab-df-quickchart {\n",
              "      --bg-color: #3B4455;\n",
              "      --fill-color: #D2E3FC;\n",
              "      --hover-bg-color: #434B5C;\n",
              "      --hover-fill-color: #FFFFFF;\n",
              "      --disabled-bg-color: #3B4455;\n",
              "      --disabled-fill-color: #666;\n",
              "  }\n",
              "\n",
              "  .colab-df-quickchart {\n",
              "    background-color: var(--bg-color);\n",
              "    border: none;\n",
              "    border-radius: 50%;\n",
              "    cursor: pointer;\n",
              "    display: none;\n",
              "    fill: var(--fill-color);\n",
              "    height: 32px;\n",
              "    padding: 0;\n",
              "    width: 32px;\n",
              "  }\n",
              "\n",
              "  .colab-df-quickchart:hover {\n",
              "    background-color: var(--hover-bg-color);\n",
              "    box-shadow: 0 1px 2px rgba(60, 64, 67, 0.3), 0 1px 3px 1px rgba(60, 64, 67, 0.15);\n",
              "    fill: var(--button-hover-fill-color);\n",
              "  }\n",
              "\n",
              "  .colab-df-quickchart-complete:disabled,\n",
              "  .colab-df-quickchart-complete:disabled:hover {\n",
              "    background-color: var(--disabled-bg-color);\n",
              "    fill: var(--disabled-fill-color);\n",
              "    box-shadow: none;\n",
              "  }\n",
              "\n",
              "  .colab-df-spinner {\n",
              "    border: 2px solid var(--fill-color);\n",
              "    border-color: transparent;\n",
              "    border-bottom-color: var(--fill-color);\n",
              "    animation:\n",
              "      spin 1s steps(1) infinite;\n",
              "  }\n",
              "\n",
              "  @keyframes spin {\n",
              "    0% {\n",
              "      border-color: transparent;\n",
              "      border-bottom-color: var(--fill-color);\n",
              "      border-left-color: var(--fill-color);\n",
              "    }\n",
              "    20% {\n",
              "      border-color: transparent;\n",
              "      border-left-color: var(--fill-color);\n",
              "      border-top-color: var(--fill-color);\n",
              "    }\n",
              "    30% {\n",
              "      border-color: transparent;\n",
              "      border-left-color: var(--fill-color);\n",
              "      border-top-color: var(--fill-color);\n",
              "      border-right-color: var(--fill-color);\n",
              "    }\n",
              "    40% {\n",
              "      border-color: transparent;\n",
              "      border-right-color: var(--fill-color);\n",
              "      border-top-color: var(--fill-color);\n",
              "    }\n",
              "    60% {\n",
              "      border-color: transparent;\n",
              "      border-right-color: var(--fill-color);\n",
              "    }\n",
              "    80% {\n",
              "      border-color: transparent;\n",
              "      border-right-color: var(--fill-color);\n",
              "      border-bottom-color: var(--fill-color);\n",
              "    }\n",
              "    90% {\n",
              "      border-color: transparent;\n",
              "      border-bottom-color: var(--fill-color);\n",
              "    }\n",
              "  }\n",
              "</style>\n",
              "\n",
              "  <script>\n",
              "    async function quickchart(key) {\n",
              "      const quickchartButtonEl =\n",
              "        document.querySelector('#' + key + ' button');\n",
              "      quickchartButtonEl.disabled = true;  // To prevent multiple clicks.\n",
              "      quickchartButtonEl.classList.add('colab-df-spinner');\n",
              "      try {\n",
              "        const charts = await google.colab.kernel.invokeFunction(\n",
              "            'suggestCharts', [key], {});\n",
              "      } catch (error) {\n",
              "        console.error('Error during call to suggestCharts:', error);\n",
              "      }\n",
              "      quickchartButtonEl.classList.remove('colab-df-spinner');\n",
              "      quickchartButtonEl.classList.add('colab-df-quickchart-complete');\n",
              "    }\n",
              "    (() => {\n",
              "      let quickchartButtonEl =\n",
              "        document.querySelector('#df-09c83033-3607-4188-b5ea-7e5b0aac3185 button');\n",
              "      quickchartButtonEl.style.display =\n",
              "        google.colab.kernel.accessAllowed ? 'block' : 'none';\n",
              "    })();\n",
              "  </script>\n",
              "</div>\n",
              "    </div>\n",
              "  </div>\n"
            ],
            "text/plain": [
              "      penalty        MAE\n",
              "1          l2  10.981086\n",
              "2          l1  10.980958\n",
              "3  elasticnet  10.981066\n",
              "4        None  10.981147"
            ]
          },
          "execution_count": 35,
          "metadata": {},
          "output_type": "execute_result"
        }
      ],
      "source": [
        "results = pd.DataFrame({'penalty': ['l2',\n",
        "                                    'l1',\n",
        "                                    'elasticnet',\n",
        "                                    'None'],\n",
        "                        'MAE': [mae_sgd_l2,\n",
        "                                mae_sgd_l1,\n",
        "                                mae_sgd_elasticnet,\n",
        "                                mae_sgd_no_penalty]},\n",
        "                        index=[1, 2, 3, 4])\n",
        "results"
      ]
    },
    {
      "cell_type": "markdown",
      "metadata": {
        "id": "13cPTtDUf3PL"
      },
      "source": [
        "The estimated Mean Absolute Errors for the BloodPressure predictions using SGD model  \n",
        "with different regularization terms are very similar.  \n",
        "This may be attributed to the fact that the features have been scaled.  \n",
        "The MAE estimated for the Linear Regression model predictions (10.923) is only slightly lower."
      ]
    }
  ],
  "metadata": {
    "colab": {
      "provenance": []
    },
    "kernelspec": {
      "display_name": "Python 3",
      "name": "python3"
    },
    "language_info": {
      "name": "python"
    }
  },
  "nbformat": 4,
  "nbformat_minor": 0
}